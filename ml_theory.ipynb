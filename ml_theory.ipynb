{
 "cells": [
  {
   "cell_type": "markdown",
   "id": "8dc2202e",
   "metadata": {},
   "source": [
    "### ```Machine Learning``` is a type of learning in which we train machine on set of data for future predicition\n",
    "e.g \n",
    "email spam detection\n",
    "prediction of stock price"
   ]
  },
  {
   "cell_type": "markdown",
   "id": "5579aa1d",
   "metadata": {},
   "source": [
    "### types of machine learning\n",
    "1. Supervised learning\n",
    "2. Unsupervised learning\n",
    "3. Reinforcement learning\n",
    "4. Semi-supervised learning"
   ]
  },
  {
   "cell_type": "markdown",
   "id": "91911cdd",
   "metadata": {},
   "source": [
    "<img src=\"ml_cycle.png\" width=\"400\">"
   ]
  },
  {
   "cell_type": "markdown",
   "id": "7d244e46",
   "metadata": {},
   "source": [
    "### 1. Regression\n",
    "The term regression is used when you try to find the relationship between variables.\n",
    "\n",
    "In Machine Learning, and in statistical modeling, that relationship is used to predict the outcome of future events."
   ]
  },
  {
   "cell_type": "markdown",
   "id": "ed9d68d1",
   "metadata": {},
   "source": [
    "#### ```linear regression``` uses the relationship between the data-points to draw a straight line through all them.\n",
    "This line can be used to predict future values"
   ]
  },
  {
   "cell_type": "markdown",
   "id": "7ef83401",
   "metadata": {},
   "source": [
    "✅ 1. Independent Variable\n",
    "Definition:\n",
    "An independent variable is the variable that is manipulated or controlled in an experiment or model. It is the input that influences the outcome.\n",
    "\n",
    "Also called: Predictor, Input variable, Feature\n",
    "\n",
    "Example:\n",
    "In a model predicting marks based on study hours:\n",
    "\n",
    "Study Hours is the independent variable.\n",
    "\n",
    "✅ 2. Dependent Variable\n",
    "Definition:\n",
    "A dependent variable is the variable that is measured or predicted. Its value depends on the independent variable.\n",
    "\n",
    "Also called: Response, Output variable, Target\n",
    "\n",
    "Example:\n",
    "In the same example:\n",
    "\n",
    "Marks is the dependent variable, because it changes depending on the study hours.\n",
    "\n",
    "✅ 3. Intercept\n",
    "Definition:\n",
    "The intercept is the value of the dependent variable when the independent variable is zero. In a graph, it is the point where the line crosses the y-axis.\n",
    "\n",
    "In Equation:\n",
    "In a linear equation of the form y = mx + c,\n",
    "\n",
    "c is the intercept.\n",
    "\n",
    "Example:\n",
    "If the equation is y = 2x + 5,\n",
    "Then the intercept is 5, because when x = 0, y = 5.\n",
    "\n",
    "✅ 4. Slope\n",
    "Definition:\n",
    "The slope represents the rate of change of the dependent variable with respect to the independent variable. It tells how much y changes for every unit change in x\n",
    "In Equation:\n",
    "In y = mx + c,\n",
    "\n",
    "m is the slope.\n",
    "\n",
    "Example:\n",
    "If the equation is y = 2x + 5,\n",
    "Then the slope is 2, which means for every increase of 1 in x, y increases by 2.\n",
    "\n"
   ]
  },
  {
   "cell_type": "markdown",
   "id": "3f35a77b",
   "metadata": {},
   "source": [
    "✅ Positive Line (Positive Slope)\n",
    "Definition:\n",
    "A positive line means that as the independent variable increases, the dependent variable also increases.\n",
    "\n",
    "Slope > 0\n",
    "\n",
    "Example:\n",
    "If you are predicting salary based on years of experience, and the line is going upward, it means:\n",
    "\n",
    "More experience → Higher salary\n",
    "\n",
    "The relationship is directly proportional\n",
    "\n",
    "Graph Shape:\n",
    "Line goes upward from left to right (↗️)\n",
    "\n",
    "Equation Example:\n",
    "y = 2x + 5\n",
    "Here, slope = 2 → Positive line\n",
    "\n",
    "✅ Negative Line (Negative Slope)\n",
    "Definition:\n",
    "A negative line means that as the independent variable increases, the dependent variable decreases.\n",
    "\n",
    "Slope < 0\n",
    "\n",
    "Example:\n",
    "If you are predicting weight based on hours of exercise, and the line is going downward, it means:\n",
    "\n",
    "More exercise → Less weight\n",
    "\n",
    "The relationship is inversely proportional\n",
    "\n",
    "Graph Shape:\n",
    "Line goes downward from left to right (↘️)\n",
    "\n",
    "Equation Example:\n",
    "y = -3x + 10\n",
    "Here, slope = -3 → Negative line"
   ]
  },
  {
   "cell_type": "markdown",
   "id": "bc8e7a11",
   "metadata": {},
   "source": [
    "####```linear regression is used to find best fit line and best fit line is finded by using mse means difference between actual op and predicted op```"
   ]
  },
  {
   "cell_type": "markdown",
   "id": "659d0b56",
   "metadata": {},
   "source": [
    "<img src=\"observ_predict.jpg\">"
   ]
  },
  {
   "cell_type": "markdown",
   "id": "ee452168",
   "metadata": {},
   "source": [
    "\n",
    "✅ Loss Function – Definition\n",
    "Loss Function is a function that measures the error for a single data point — i.e., how far the predicted value is from the actual value.\n",
    "\n",
    "In Simple Words:\n",
    "It tells how bad the model's prediction is for one example.\n",
    "\n",
    "Example:\n",
    "If the true value is 10 and your model predicts 8, the loss is calculated using a formula like:\n",
    "\n",
    "Mean Squared Error (MSE): (10 - 8)² = 4\n",
    "\n",
    "Popular Loss Functions:\n",
    "\n",
    "Mean Squared Error (MSE)\n",
    "\n",
    "Mean Absolute Error (MAE)\n",
    "\n",
    "Cross-Entropy Loss\n",
    "\n",
    "✅ Cost Function – Definition\n",
    "Cost Function is the average of the loss across all training examples.\n",
    "It gives a single number that represents how well the model is performing overall.\n",
    "\n",
    "In Simple Words:\n",
    "It is the average total error for the entire dataset.\n",
    "\n",
    "Example:\n",
    "If you have 100 predictions, the cost function would average the loss values for those 100 samples.\n",
    "\n",
    "Goal in ML:\n",
    "To minimize the cost function during training\n",
    "\n"
   ]
  },
  {
   "cell_type": "markdown",
   "id": "24147ec4",
   "metadata": {},
   "source": [
    "### gradient descent "
   ]
  },
  {
   "cell_type": "markdown",
   "id": "fefe74bf",
   "metadata": {},
   "source": [
    "<img src =\"Gradient_descent.png\">"
   ]
  },
  {
   "cell_type": "markdown",
   "id": "82e54b1b",
   "metadata": {},
   "source": [
    "#### Model Evaluation technique for regression\n",
    "1. r square\n",
    "2. rmse(root mean square error)\n"
   ]
  },
  {
   "cell_type": "markdown",
   "id": "8881c855",
   "metadata": {},
   "source": [
    "✅ 1. R² – Coefficient of Determination\n",
    "Definition:\n",
    "R² is a statistical metric that shows how well the regression predictions approximate the real data points.\n",
    "It tells the percentage of variation in the dependent variable that is explained by the independent variable(s).\n",
    "\n",
    "Range:\n",
    "\n",
    "R²=1 R²=1: Perfect fit\n",
    "\n",
    "R²=0 R² =0: Model explains nothing\n",
    "\n",
    "R²<0 R²<0: Model performs worse than a horizontal mean line\n",
    "\n",
    "R²=1− ∑ i=1n(y i− y')² / ∑ i=1n(y i − y^i)²\n",
    "\n",
    "Where:\n",
    "\n",
    "yi= actual values\n",
    "\n",
    "𝑦^𝑖 y^i= predicted values\n",
    "\n",
    "y' = mean of actual values\n",
    "\n",
    "\n",
    "✅ 2. RMSE – Root Mean Squared Error\n",
    "Definition:\n",
    "RMSE is a metric that measures the average magnitude of error between predicted and actual values.\n",
    "It is the square root of the average of squared differences between prediction and actual observation.\n",
    "\n",
    "Lower RMSE = Better model\n",
    "\n",
    "🔸 Formula:\n",
    "\n",
    "RMSE= \n",
    "\n",
    "​\n",
    "<img src=\"formula.jpg\" width =1000>"
   ]
  },
  {
   "cell_type": "markdown",
   "id": "30a68bd7",
   "metadata": {},
   "source": []
  }
 ],
 "metadata": {
  "language_info": {
   "name": "python"
  }
 },
 "nbformat": 4,
 "nbformat_minor": 5
}
