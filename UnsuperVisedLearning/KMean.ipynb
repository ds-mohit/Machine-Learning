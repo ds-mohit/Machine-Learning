{
 "cells": [
  {
   "cell_type": "markdown",
   "id": "c9459302",
   "metadata": {},
   "source": [
    "### ```K-Mean Clustering```"
   ]
  },
  {
   "cell_type": "markdown",
   "id": "e49c52bf",
   "metadata": {},
   "source": [
    "```K-Means Clustering``` is an unsupervised learning algorithm used to group similar data points into K clusters based on features."
   ]
  },
  {
   "cell_type": "markdown",
   "id": "a27a7da8",
   "metadata": {},
   "source": [
    "📌 Key Concepts:\n",
    "1. K: Number of clusters you want to divide the data into.\n",
    "\n",
    "2. Centroid: The center point of a cluster.\n",
    "\n",
    "3. Distance: Data points are assigned to the nearest centroid (usually using Euclidean distance)."
   ]
  },
  {
   "cell_type": "markdown",
   "id": "28e49963",
   "metadata": {},
   "source": [
    "🧠 How K-Means Works:\n",
    "1. Choose the number of clusters (K).\n",
    "\n",
    "2. Initialize K centroids randomly.\n",
    "\n",
    "3. Assign each data point to the nearest centroid via calculate the distance between each point and centroid.\n",
    "via ``` eucilidian distance```= ```sqrt((x1-x2)^2 + (y1-y2)^2)```\n",
    "\n",
    "4. Recalculate the centroids by taking the mean of all points in each cluster.\n",
    "via ``` (x1+x2)/2 , (y1+y2)/2```\n",
    "\n",
    "5. Repeat steps 3-4 until centroids no longer change (convergence).\n",
    "\n"
   ]
  },
  {
   "cell_type": "markdown",
   "id": "8d47e045",
   "metadata": {},
   "source": [
    "#### ```k mean clustering : Evaluation Metrics```\n",
    "🔹 Intracluster Distance:\n",
    "Definition: The distance between data points within the same cluster.\n",
    "\n",
    "Goal: Should be low (points in the same cluster should be close to each other).\n",
    "\n",
    "Indicates: Compactness of the cluster.\n",
    "\n",
    "✅ Lower intracluster distance = Better cluster tightness"
   ]
  },
  {
   "cell_type": "markdown",
   "id": "a4775e49",
   "metadata": {},
   "source": [
    "🔸 Intercluster Distance:\n",
    "Definition: The distance between the centroids of different clusters.\n",
    "\n",
    "Goal: Should be high (clusters should be well-separated from each other).\n",
    "\n",
    "Indicates: Separation between clusters.\n",
    "\n",
    "✅ Higher intercluster distance = Better cluster separation\n"
   ]
  },
  {
   "cell_type": "markdown",
   "id": "ab9a8dc3",
   "metadata": {},
   "source": [
    "#### ```Optimal way to find no of centroids( no. of k)```\n",
    "---> Algo method:\n",
    "     it is based on wcss(within cluster sum of square)\n",
    "\n",
    "<img src=\"Screenshot (4).png\">\n",
    "\n",
    "\n",
    "it tells us to find first find distance and then square them\n",
    "\n",
    "when k value increases wcss value decreases and at one point it starting to show minimal changes "
   ]
  },
  {
   "cell_type": "markdown",
   "id": "df24e67f",
   "metadata": {},
   "source": []
  }
 ],
 "metadata": {
  "language_info": {
   "name": "python"
  }
 },
 "nbformat": 4,
 "nbformat_minor": 5
}
