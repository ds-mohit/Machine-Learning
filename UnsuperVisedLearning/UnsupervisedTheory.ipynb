{
 "cells": [
  {
   "cell_type": "markdown",
   "id": "a930c916",
   "metadata": {},
   "source": [
    "#           ``` UnsuperVised Learning```"
   ]
  },
  {
   "cell_type": "markdown",
   "id": "21ee0c90",
   "metadata": {},
   "source": [
    "```Unsupervised Learning``` is a type of machine learning where the model is trained without labeled data. The algorithm tries to discover patterns, structures, or relationships in the input data on its own."
   ]
  },
  {
   "cell_type": "markdown",
   "id": "6bf3bf48",
   "metadata": {},
   "source": [
    "🎯 Applications:\n",
    "Customer segmentation\n",
    "\n",
    "Market basket analysis\n",
    "\n",
    "Anomaly detection\n",
    "\n",
    "Dimensionality reduction\n",
    "\n",
    "Document or image clustering"
   ]
  },
  {
   "cell_type": "markdown",
   "id": "636359de",
   "metadata": {},
   "source": [
    "<img src=\"photo.jpg\">"
   ]
  },
  {
   "cell_type": "markdown",
   "id": "a6f0ea3d",
   "metadata": {},
   "source": []
  },
  {
   "cell_type": "markdown",
   "id": "e4faf1df",
   "metadata": {},
   "source": []
  }
 ],
 "metadata": {
  "language_info": {
   "name": "python"
  }
 },
 "nbformat": 4,
 "nbformat_minor": 5
}
